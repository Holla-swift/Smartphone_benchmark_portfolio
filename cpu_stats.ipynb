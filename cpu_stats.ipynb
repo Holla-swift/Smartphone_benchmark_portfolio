{
 "cells": [
  {
   "cell_type": "markdown",
   "metadata": {},
   "source": [
    "### CPU Geekbench Analysis"
   ]
  },
  {
   "cell_type": "code",
   "execution_count": 1,
   "metadata": {},
   "outputs": [],
   "source": [
    "### import neccesary libraries\n",
    "\n",
    "\n",
    "import pandas as pd\n",
    "import matplotlib.pyplot as plt"
   ]
  },
  {
   "cell_type": "code",
   "execution_count": 3,
   "metadata": {},
   "outputs": [
    {
     "data": {
      "text/html": [
       "<div>\n",
       "<style scoped>\n",
       "    .dataframe tbody tr th:only-of-type {\n",
       "        vertical-align: middle;\n",
       "    }\n",
       "\n",
       "    .dataframe tbody tr th {\n",
       "        vertical-align: top;\n",
       "    }\n",
       "\n",
       "    .dataframe thead th {\n",
       "        text-align: right;\n",
       "    }\n",
       "</style>\n",
       "<table border=\"1\" class=\"dataframe\">\n",
       "  <thead>\n",
       "    <tr style=\"text-align: right;\">\n",
       "      <th></th>\n",
       "      <th>rank</th>\n",
       "      <th>company</th>\n",
       "      <th>cpuName</th>\n",
       "      <th>geekbenchSingle</th>\n",
       "      <th>geekbenchMulti</th>\n",
       "      <th>antutu9</th>\n",
       "      <th>coreCount</th>\n",
       "      <th>coreConfig</th>\n",
       "      <th>clockSpeed</th>\n",
       "      <th>gpu</th>\n",
       "    </tr>\n",
       "  </thead>\n",
       "  <tbody>\n",
       "    <tr>\n",
       "      <th>0</th>\n",
       "      <td>1</td>\n",
       "      <td>Apple</td>\n",
       "      <td>A15 Bionic</td>\n",
       "      <td>1727</td>\n",
       "      <td>4688</td>\n",
       "      <td>794346</td>\n",
       "      <td>6</td>\n",
       "      <td>(2+4)</td>\n",
       "      <td>3223</td>\n",
       "      <td>Apple GPU</td>\n",
       "    </tr>\n",
       "    <tr>\n",
       "      <th>1</th>\n",
       "      <td>2</td>\n",
       "      <td>MediaTek</td>\n",
       "      <td>Dimensity 9000</td>\n",
       "      <td>1269</td>\n",
       "      <td>4267</td>\n",
       "      <td>1017817</td>\n",
       "      <td>8</td>\n",
       "      <td>(1+3+4)</td>\n",
       "      <td>3050</td>\n",
       "      <td>Mali-G710</td>\n",
       "    </tr>\n",
       "    <tr>\n",
       "      <th>2</th>\n",
       "      <td>3</td>\n",
       "      <td>Qualcomm</td>\n",
       "      <td>Snapdragon 8 Gen 1</td>\n",
       "      <td>1213</td>\n",
       "      <td>3765</td>\n",
       "      <td>1028349</td>\n",
       "      <td>8</td>\n",
       "      <td>(1+3+4)</td>\n",
       "      <td>3000</td>\n",
       "      <td>Adreno 730</td>\n",
       "    </tr>\n",
       "    <tr>\n",
       "      <th>3</th>\n",
       "      <td>4</td>\n",
       "      <td>Apple</td>\n",
       "      <td>A14 Bionic</td>\n",
       "      <td>1581</td>\n",
       "      <td>4093</td>\n",
       "      <td>730211</td>\n",
       "      <td>6</td>\n",
       "      <td>(2+4)</td>\n",
       "      <td>3100</td>\n",
       "      <td>Apple GPU</td>\n",
       "    </tr>\n",
       "    <tr>\n",
       "      <th>4</th>\n",
       "      <td>5</td>\n",
       "      <td>Qualcomm</td>\n",
       "      <td>Snapdragon 888 Plus</td>\n",
       "      <td>1162</td>\n",
       "      <td>3626</td>\n",
       "      <td>838764</td>\n",
       "      <td>8</td>\n",
       "      <td>(1+3+4)</td>\n",
       "      <td>2995</td>\n",
       "      <td>Adreno 660</td>\n",
       "    </tr>\n",
       "  </tbody>\n",
       "</table>\n",
       "</div>"
      ],
      "text/plain": [
       "   rank   company              cpuName  geekbenchSingle  geekbenchMulti  \\\n",
       "0     1     Apple           A15 Bionic             1727            4688   \n",
       "1     2  MediaTek       Dimensity 9000             1269            4267   \n",
       "2     3  Qualcomm   Snapdragon 8 Gen 1             1213            3765   \n",
       "3     4     Apple           A14 Bionic             1581            4093   \n",
       "4     5  Qualcomm  Snapdragon 888 Plus             1162            3626   \n",
       "\n",
       "   antutu9  coreCount coreConfig  clockSpeed         gpu  \n",
       "0   794346          6      (2+4)        3223   Apple GPU  \n",
       "1  1017817          8    (1+3+4)        3050   Mali-G710  \n",
       "2  1028349          8    (1+3+4)        3000  Adreno 730  \n",
       "3   730211          6      (2+4)        3100   Apple GPU  \n",
       "4   838764          8    (1+3+4)        2995  Adreno 660  "
      ]
     },
     "execution_count": 3,
     "metadata": {},
     "output_type": "execute_result"
    }
   ],
   "source": [
    "cpu_stat = pd.read_csv(r'C:\\Users\\sadeo\\Desktop\\Smartphone benchmark\\smartphone_cpu_stats.csv')\n",
    "cpu_stat.head()"
   ]
  },
  {
   "cell_type": "code",
   "execution_count": 5,
   "metadata": {},
   "outputs": [
    {
     "name": "stdout",
     "output_type": "stream",
     "text": [
      "<class 'pandas.core.frame.DataFrame'>\n",
      "RangeIndex: 125 entries, 0 to 124\n",
      "Data columns (total 10 columns):\n",
      " #   Column           Non-Null Count  Dtype \n",
      "---  ------           --------------  ----- \n",
      " 0   rank             125 non-null    int64 \n",
      " 1   company          125 non-null    object\n",
      " 2   cpuName          125 non-null    object\n",
      " 3   geekbenchSingle  125 non-null    int64 \n",
      " 4   geekbenchMulti   125 non-null    int64 \n",
      " 5   antutu9          125 non-null    int64 \n",
      " 6   coreCount        125 non-null    int64 \n",
      " 7   coreConfig       125 non-null    object\n",
      " 8   clockSpeed       125 non-null    int64 \n",
      " 9   gpu              125 non-null    object\n",
      "dtypes: int64(6), object(4)\n",
      "memory usage: 9.9+ KB\n"
     ]
    }
   ],
   "source": [
    "cpu_stat.info()"
   ]
  },
  {
   "cell_type": "code",
   "execution_count": 4,
   "metadata": {},
   "outputs": [
    {
     "data": {
      "text/plain": [
       "['Samsung', 'Google', 'HiSilicon', 'Qualcomm', 'Unisoc', 'MediaTek', 'Apple']"
      ]
     },
     "execution_count": 4,
     "metadata": {},
     "output_type": "execute_result"
    }
   ],
   "source": [
    "list(set(cpu_stat.company))"
   ]
  },
  {
   "cell_type": "code",
   "execution_count": 17,
   "metadata": {},
   "outputs": [
    {
     "data": {
      "image/png": "[encoded data removed]",
      "text/plain": [
       "<Figure size 432x288 with 1 Axes>"
      ]
     },
     "metadata": {
      "needs_background": "light"
     },
     "output_type": "display_data"
    }
   ],
   "source": [
    "### Relationship between core and speed\n",
    "\n",
    "plt.scatter(cpu_stat.coreCount, cpu_stat.clockSpeed)\n",
    "plt.title('Core count and speed level', size=14)\n",
    "plt.ylabel('Speed level of devices')\n",
    "plt.xlabel('No of core on device')\n",
    "\n",
    "plt.show()"
   ]
  },
  {
   "cell_type": "code",
   "execution_count": 12,
   "metadata": {},
   "outputs": [
    {
     "data": {
      "text/html": [
       "<div>\n",
       "<style scoped>\n",
       "    .dataframe tbody tr th:only-of-type {\n",
       "        vertical-align: middle;\n",
       "    }\n",
       "\n",
       "    .dataframe tbody tr th {\n",
       "        vertical-align: top;\n",
       "    }\n",
       "\n",
       "    .dataframe thead th {\n",
       "        text-align: right;\n",
       "    }\n",
       "</style>\n",
       "<table border=\"1\" class=\"dataframe\">\n",
       "  <thead>\n",
       "    <tr style=\"text-align: right;\">\n",
       "      <th></th>\n",
       "      <th>rank</th>\n",
       "      <th>geekbenchSingle</th>\n",
       "      <th>geekbenchMulti</th>\n",
       "      <th>antutu9</th>\n",
       "      <th>coreCount</th>\n",
       "      <th>clockSpeed</th>\n",
       "    </tr>\n",
       "    <tr>\n",
       "      <th>company</th>\n",
       "      <th></th>\n",
       "      <th></th>\n",
       "      <th></th>\n",
       "      <th></th>\n",
       "      <th></th>\n",
       "      <th></th>\n",
       "    </tr>\n",
       "  </thead>\n",
       "  <tbody>\n",
       "    <tr>\n",
       "      <th>Apple</th>\n",
       "      <td>35.285714</td>\n",
       "      <td>1137.571429</td>\n",
       "      <td>2838.857143</td>\n",
       "      <td>505852.142857</td>\n",
       "      <td>5.142857</td>\n",
       "      <td>2579.000000</td>\n",
       "    </tr>\n",
       "    <tr>\n",
       "      <th>Google</th>\n",
       "      <td>9.000000</td>\n",
       "      <td>1038.000000</td>\n",
       "      <td>2845.000000</td>\n",
       "      <td>717527.000000</td>\n",
       "      <td>8.000000</td>\n",
       "      <td>2800.000000</td>\n",
       "    </tr>\n",
       "    <tr>\n",
       "      <th>HiSilicon</th>\n",
       "      <td>65.875000</td>\n",
       "      <td>550.875000</td>\n",
       "      <td>2049.437500</td>\n",
       "      <td>366704.687500</td>\n",
       "      <td>8.000000</td>\n",
       "      <td>2510.625000</td>\n",
       "    </tr>\n",
       "    <tr>\n",
       "      <th>MediaTek</th>\n",
       "      <td>65.757576</td>\n",
       "      <td>507.696970</td>\n",
       "      <td>1833.909091</td>\n",
       "      <td>350337.181818</td>\n",
       "      <td>8.000000</td>\n",
       "      <td>2265.151515</td>\n",
       "    </tr>\n",
       "    <tr>\n",
       "      <th>Qualcomm</th>\n",
       "      <td>59.547619</td>\n",
       "      <td>574.571429</td>\n",
       "      <td>1967.761905</td>\n",
       "      <td>386756.023810</td>\n",
       "      <td>7.809524</td>\n",
       "      <td>2376.833333</td>\n",
       "    </tr>\n",
       "    <tr>\n",
       "      <th>Samsung</th>\n",
       "      <td>67.714286</td>\n",
       "      <td>553.190476</td>\n",
       "      <td>1757.428571</td>\n",
       "      <td>357128.619048</td>\n",
       "      <td>7.904762</td>\n",
       "      <td>2343.809524</td>\n",
       "    </tr>\n",
       "    <tr>\n",
       "      <th>Unisoc</th>\n",
       "      <td>94.400000</td>\n",
       "      <td>356.200000</td>\n",
       "      <td>1298.200000</td>\n",
       "      <td>212928.600000</td>\n",
       "      <td>8.000000</td>\n",
       "      <td>1844.000000</td>\n",
       "    </tr>\n",
       "  </tbody>\n",
       "</table>\n",
       "</div>"
      ],
      "text/plain": [
       "                rank  geekbenchSingle  geekbenchMulti        antutu9  \\\n",
       "company                                                                \n",
       "Apple      35.285714      1137.571429     2838.857143  505852.142857   \n",
       "Google      9.000000      1038.000000     2845.000000  717527.000000   \n",
       "HiSilicon  65.875000       550.875000     2049.437500  366704.687500   \n",
       "MediaTek   65.757576       507.696970     1833.909091  350337.181818   \n",
       "Qualcomm   59.547619       574.571429     1967.761905  386756.023810   \n",
       "Samsung    67.714286       553.190476     1757.428571  357128.619048   \n",
       "Unisoc     94.400000       356.200000     1298.200000  212928.600000   \n",
       "\n",
       "           coreCount   clockSpeed  \n",
       "company                            \n",
       "Apple       5.142857  2579.000000  \n",
       "Google      8.000000  2800.000000  \n",
       "HiSilicon   8.000000  2510.625000  \n",
       "MediaTek    8.000000  2265.151515  \n",
       "Qualcomm    7.809524  2376.833333  \n",
       "Samsung     7.904762  2343.809524  \n",
       "Unisoc      8.000000  1844.000000  "
      ]
     },
     "execution_count": 12,
     "metadata": {},
     "output_type": "execute_result"
    }
   ],
   "source": [
    "company_benchmark = cpu_stat.groupby(['company']).mean()\n",
    "company_benchmark"
   ]
  },
  {
   "cell_type": "code",
   "execution_count": 13,
   "metadata": {},
   "outputs": [],
   "source": [
    "fastest = company_benchmark.nlargest(7,'clockSpeed')\n",
    "highest_single = company_benchmark.nlargest(7,'geekbenchSingle')\n",
    "highest_multiple = company_benchmark.nlargest(7,'geekbenchMulti')\n",
    "high_antutu9 = company_benchmark.nlargest(7,'antutu9')"
   ]
  },
  {
   "cell_type": "code",
   "execution_count": 23,
   "metadata": {},
   "outputs": [
    {
     "data": {
      "image/png": "[encoded data removed]",
      "text/plain": [
       "<Figure size 432x288 with 1 Axes>"
      ]
     },
     "metadata": {
      "needs_background": "light"
     },
     "output_type": "display_data"
    }
   ],
   "source": [
    "plt.plot(fastest.index, fastest.clockSpeed)\n",
    "plt.bar(highest_multiple.index, highest_multiple.geekbenchMulti, color='r')\n",
    "plt.title('Speed and Geekbenchmark ratings', size=14)\n",
    "plt.xticks(rotation='vertical', size=12)\n",
    "plt.legend(['speed', 'benchmark rating'])\n",
    "\n",
    "plt.show()"
   ]
  },
  {
   "cell_type": "code",
   "execution_count": null,
   "metadata": {},
   "outputs": [],
   "source": []
  }
 ],
 "metadata": {
  "interpreter": {
   "hash": "cb776a8375f8b9239be053e69763f4892600dfe18133ac09a5580b4dc1bb9f8a"
  },
  "kernelspec": {
   "display_name": "Python 3.9.7 ('base')",
   "language": "python",
   "name": "python3"
  },
  "language_info": {
   "codemirror_mode": {
    "name": "ipython",
    "version": 3
   },
   "file_extension": ".py",
   "mimetype": "text/x-python",
   "name": "python",
   "nbconvert_exporter": "python",
   "pygments_lexer": "ipython3",
   "version": "3.9.7"
  },
  "orig_nbformat": 4
 },
 "nbformat": 4,
 "nbformat_minor": 2
}
